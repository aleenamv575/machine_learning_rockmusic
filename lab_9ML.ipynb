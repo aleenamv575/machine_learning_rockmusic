{
  "nbformat": 4,
  "nbformat_minor": 0,
  "metadata": {
    "colab": {
      "provenance": []
    },
    "kernelspec": {
      "name": "python3",
      "display_name": "Python 3"
    },
    "language_info": {
      "name": "python"
    }
  },
  "cells": [
    {
      "cell_type": "markdown",
      "source": [
        "**LAB 09 <br>Exploring mlp classifier**"
      ],
      "metadata": {
        "id": "exuv82KdlXEB"
      }
    },
    {
      "cell_type": "code",
      "source": [
        "from google.colab import files\n",
        " \n",
        "uploaded = files.upload()"
      ],
      "metadata": {
        "colab": {
          "base_uri": "https://localhost:8080/",
          "height": 74
        },
        "id": "xDHUtVEZlr6P",
        "outputId": "e7ba0d17-104c-4711-9d59-2eb388d40b78"
      },
      "execution_count": null,
      "outputs": [
        {
          "output_type": "display_data",
          "data": {
            "text/plain": [
              "<IPython.core.display.HTML object>"
            ],
            "text/html": [
              "\n",
              "     <input type=\"file\" id=\"files-1786b84e-9367-4512-8af0-f6afe06a2743\" name=\"files[]\" multiple disabled\n",
              "        style=\"border:none\" />\n",
              "     <output id=\"result-1786b84e-9367-4512-8af0-f6afe06a2743\">\n",
              "      Upload widget is only available when the cell has been executed in the\n",
              "      current browser session. Please rerun this cell to enable.\n",
              "      </output>\n",
              "      <script>// Copyright 2017 Google LLC\n",
              "//\n",
              "// Licensed under the Apache License, Version 2.0 (the \"License\");\n",
              "// you may not use this file except in compliance with the License.\n",
              "// You may obtain a copy of the License at\n",
              "//\n",
              "//      http://www.apache.org/licenses/LICENSE-2.0\n",
              "//\n",
              "// Unless required by applicable law or agreed to in writing, software\n",
              "// distributed under the License is distributed on an \"AS IS\" BASIS,\n",
              "// WITHOUT WARRANTIES OR CONDITIONS OF ANY KIND, either express or implied.\n",
              "// See the License for the specific language governing permissions and\n",
              "// limitations under the License.\n",
              "\n",
              "/**\n",
              " * @fileoverview Helpers for google.colab Python module.\n",
              " */\n",
              "(function(scope) {\n",
              "function span(text, styleAttributes = {}) {\n",
              "  const element = document.createElement('span');\n",
              "  element.textContent = text;\n",
              "  for (const key of Object.keys(styleAttributes)) {\n",
              "    element.style[key] = styleAttributes[key];\n",
              "  }\n",
              "  return element;\n",
              "}\n",
              "\n",
              "// Max number of bytes which will be uploaded at a time.\n",
              "const MAX_PAYLOAD_SIZE = 100 * 1024;\n",
              "\n",
              "function _uploadFiles(inputId, outputId) {\n",
              "  const steps = uploadFilesStep(inputId, outputId);\n",
              "  const outputElement = document.getElementById(outputId);\n",
              "  // Cache steps on the outputElement to make it available for the next call\n",
              "  // to uploadFilesContinue from Python.\n",
              "  outputElement.steps = steps;\n",
              "\n",
              "  return _uploadFilesContinue(outputId);\n",
              "}\n",
              "\n",
              "// This is roughly an async generator (not supported in the browser yet),\n",
              "// where there are multiple asynchronous steps and the Python side is going\n",
              "// to poll for completion of each step.\n",
              "// This uses a Promise to block the python side on completion of each step,\n",
              "// then passes the result of the previous step as the input to the next step.\n",
              "function _uploadFilesContinue(outputId) {\n",
              "  const outputElement = document.getElementById(outputId);\n",
              "  const steps = outputElement.steps;\n",
              "\n",
              "  const next = steps.next(outputElement.lastPromiseValue);\n",
              "  return Promise.resolve(next.value.promise).then((value) => {\n",
              "    // Cache the last promise value to make it available to the next\n",
              "    // step of the generator.\n",
              "    outputElement.lastPromiseValue = value;\n",
              "    return next.value.response;\n",
              "  });\n",
              "}\n",
              "\n",
              "/**\n",
              " * Generator function which is called between each async step of the upload\n",
              " * process.\n",
              " * @param {string} inputId Element ID of the input file picker element.\n",
              " * @param {string} outputId Element ID of the output display.\n",
              " * @return {!Iterable<!Object>} Iterable of next steps.\n",
              " */\n",
              "function* uploadFilesStep(inputId, outputId) {\n",
              "  const inputElement = document.getElementById(inputId);\n",
              "  inputElement.disabled = false;\n",
              "\n",
              "  const outputElement = document.getElementById(outputId);\n",
              "  outputElement.innerHTML = '';\n",
              "\n",
              "  const pickedPromise = new Promise((resolve) => {\n",
              "    inputElement.addEventListener('change', (e) => {\n",
              "      resolve(e.target.files);\n",
              "    });\n",
              "  });\n",
              "\n",
              "  const cancel = document.createElement('button');\n",
              "  inputElement.parentElement.appendChild(cancel);\n",
              "  cancel.textContent = 'Cancel upload';\n",
              "  const cancelPromise = new Promise((resolve) => {\n",
              "    cancel.onclick = () => {\n",
              "      resolve(null);\n",
              "    };\n",
              "  });\n",
              "\n",
              "  // Wait for the user to pick the files.\n",
              "  const files = yield {\n",
              "    promise: Promise.race([pickedPromise, cancelPromise]),\n",
              "    response: {\n",
              "      action: 'starting',\n",
              "    }\n",
              "  };\n",
              "\n",
              "  cancel.remove();\n",
              "\n",
              "  // Disable the input element since further picks are not allowed.\n",
              "  inputElement.disabled = true;\n",
              "\n",
              "  if (!files) {\n",
              "    return {\n",
              "      response: {\n",
              "        action: 'complete',\n",
              "      }\n",
              "    };\n",
              "  }\n",
              "\n",
              "  for (const file of files) {\n",
              "    const li = document.createElement('li');\n",
              "    li.append(span(file.name, {fontWeight: 'bold'}));\n",
              "    li.append(span(\n",
              "        `(${file.type || 'n/a'}) - ${file.size} bytes, ` +\n",
              "        `last modified: ${\n",
              "            file.lastModifiedDate ? file.lastModifiedDate.toLocaleDateString() :\n",
              "                                    'n/a'} - `));\n",
              "    const percent = span('0% done');\n",
              "    li.appendChild(percent);\n",
              "\n",
              "    outputElement.appendChild(li);\n",
              "\n",
              "    const fileDataPromise = new Promise((resolve) => {\n",
              "      const reader = new FileReader();\n",
              "      reader.onload = (e) => {\n",
              "        resolve(e.target.result);\n",
              "      };\n",
              "      reader.readAsArrayBuffer(file);\n",
              "    });\n",
              "    // Wait for the data to be ready.\n",
              "    let fileData = yield {\n",
              "      promise: fileDataPromise,\n",
              "      response: {\n",
              "        action: 'continue',\n",
              "      }\n",
              "    };\n",
              "\n",
              "    // Use a chunked sending to avoid message size limits. See b/62115660.\n",
              "    let position = 0;\n",
              "    do {\n",
              "      const length = Math.min(fileData.byteLength - position, MAX_PAYLOAD_SIZE);\n",
              "      const chunk = new Uint8Array(fileData, position, length);\n",
              "      position += length;\n",
              "\n",
              "      const base64 = btoa(String.fromCharCode.apply(null, chunk));\n",
              "      yield {\n",
              "        response: {\n",
              "          action: 'append',\n",
              "          file: file.name,\n",
              "          data: base64,\n",
              "        },\n",
              "      };\n",
              "\n",
              "      let percentDone = fileData.byteLength === 0 ?\n",
              "          100 :\n",
              "          Math.round((position / fileData.byteLength) * 100);\n",
              "      percent.textContent = `${percentDone}% done`;\n",
              "\n",
              "    } while (position < fileData.byteLength);\n",
              "  }\n",
              "\n",
              "  // All done.\n",
              "  yield {\n",
              "    response: {\n",
              "      action: 'complete',\n",
              "    }\n",
              "  };\n",
              "}\n",
              "\n",
              "scope.google = scope.google || {};\n",
              "scope.google.colab = scope.google.colab || {};\n",
              "scope.google.colab._files = {\n",
              "  _uploadFiles,\n",
              "  _uploadFilesContinue,\n",
              "};\n",
              "})(self);\n",
              "</script> "
            ]
          },
          "metadata": {}
        },
        {
          "output_type": "stream",
          "name": "stdout",
          "text": [
            "Saving accident-2014-4.csv to accident-2014-4.csv\n"
          ]
        }
      ]
    },
    {
      "cell_type": "code",
      "source": [
        "import pandas as pd\n",
        "import io\n",
        "import seaborn as sns\n",
        "import matplotlib.pyplot as plt\n",
        "import numpy as np\n",
        "from sklearn.cluster import KMeans\n",
        "%matplotlib inline\n",
        "import warnings\n",
        "from sklearn.preprocessing import LabelEncoder\n",
        "warnings.filterwarnings('ignore')\n",
        "\n",
        "df = pd.read_csv(io.BytesIO(uploaded['accident-2014-4.csv']))\n",
        "print(df.head().to_markdown())"
      ],
      "metadata": {
        "colab": {
          "base_uri": "https://localhost:8080/"
        },
        "id": "74_JzKYEluaw",
        "outputId": "6d51595e-28de-4208-d64a-ff20fb5b2ba2"
      },
      "execution_count": null,
      "outputs": [
        {
          "output_type": "stream",
          "name": "stdout",
          "text": [
            "|    | Reference Number   |   Grid Ref: Easting |   Grid Ref: Northing |   Number of Vehicles | Accident Date   |   Time (24hr) |   1st Road Class | 1st Road Class & No   |   Road Surface |   Lighting Conditions |   Weather Conditions | Local Authority   |   Casualty Class |   Casualty Severity |   Sex of Casualty |   Age of Casualty |   Vehicle Number |   Type of Vehicle |\n",
            "|---:|:-------------------|--------------------:|---------------------:|---------------------:|:----------------|--------------:|-----------------:|:----------------------|---------------:|----------------------:|---------------------:|:------------------|-----------------:|--------------------:|------------------:|------------------:|-----------------:|------------------:|\n",
            "|  0 | 11S0281            |              407491 |               428929 |                    1 | 28-01-2014      |           835 |                6 | U                     |              2 |                     1 |                    9 | Calderdale        |                3 |                   3 |                 2 |                 8 |                1 |                 9 |\n",
            "|  1 | 11S1147            |              412912 |               429039 |                    1 | 28-01-2014      |          1745 |                6 | U                     |              2 |                     4 |                    1 | Calderdale        |                3 |                   3 |                 2 |                15 |                1 |                 9 |\n",
            "|  2 | 11S1147            |              412912 |               429039 |                    1 | 28-01-2014      |          1745 |                6 | U                     |              2 |                     4 |                    1 | Calderdale        |                3 |                   3 |                 1 |                17 |                1 |                 9 |\n",
            "|  3 | 11U0285            |              407179 |               424776 |                    2 | 30-01-2014      |           900 |                6 | U                     |              2 |                     1 |                    8 | Calderdale        |                1 |                   3 |                 2 |                29 |                2 |                 9 |\n",
            "|  4 | 11U0285            |              407179 |               424776 |                    2 | 30-01-2014      |           900 |                6 | U                     |              2 |                     1 |                    8 | Calderdale        |                2 |                   3 |                 1 |                 9 |                2 |                 9 |\n"
          ]
        }
      ]
    },
    {
      "cell_type": "code",
      "source": [
        "#Drop the columns with the non numerical values.\n",
        "df1 = df\n",
        "num_df =df1.drop(['Grid Ref: Easting', 'Grid Ref: Northing','Reference Number','Accident Date','Time (24hr)', '1st Road Class','Casualty Class', '1st Road Class & No','Vehicle Number','Local Authority'], axis=1)\n",
        "num_df.columns\n",
        "num_df.hist()\n",
        "\n",
        "# Bring the class attribute as the last column\n",
        "# The casulaty Severity here has 3 values.. 1.Fatal, 2.Seriuos . 3.Slight\n",
        "\n",
        "temp_series = num_df.pop('Casualty Severity')\n",
        "num_df['Casualty Severity'] = temp_series\n",
        "num_df.columns"
      ],
      "metadata": {
        "colab": {
          "base_uri": "https://localhost:8080/",
          "height": 350
        },
        "id": "gI_a7sPTluWh",
        "outputId": "069b400f-f54e-4995-aeec-c99be7814cc8"
      },
      "execution_count": null,
      "outputs": [
        {
          "output_type": "execute_result",
          "data": {
            "text/plain": [
              "Index(['Number of Vehicles', 'Road Surface', 'Lighting Conditions',\n",
              "       'Weather Conditions', 'Sex of Casualty', 'Age of Casualty',\n",
              "       'Type of Vehicle', 'Casualty Severity'],\n",
              "      dtype='object')"
            ]
          },
          "metadata": {},
          "execution_count": 3
        },
        {
          "output_type": "display_data",
          "data": {
            "text/plain": [
              "<Figure size 432x288 with 9 Axes>"
            ],
            "image/png": "[encoded data removed]"
          },
          "metadata": {
            "needs_background": "light"
          }
        }
      ]
    },
    {
      "cell_type": "code",
      "source": [
        "# importing the sklearn library\n",
        "from sklearn.metrics import accuracy_score\n",
        "from sklearn.model_selection import train_test_split  \n",
        "from sklearn.preprocessing import StandardScaler \n",
        "from sklearn.metrics import classification_report, confusion_matrix, accuracy_score\n",
        "from sklearn.neural_network import MLPClassifier\n",
        "from sklearn.metrics import roc_auc_score"
      ],
      "metadata": {
        "id": "MNAuDT59luUg"
      },
      "execution_count": null,
      "outputs": []
    },
    {
      "cell_type": "code",
      "source": [
        "# getting the x(dataset excluding the class attribute) and y(class attribute) dataset from class data set\n",
        "x = num_df.drop('Casualty Severity',axis=1)\n",
        "y = num_df['Casualty Severity']\n",
        "\n",
        "X_train, X_test, y_train, y_test= train_test_split(x, y, test_size= 0.25)"
      ],
      "metadata": {
        "id": "E1FGZwg2luRc"
      },
      "execution_count": null,
      "outputs": []
    },
    {
      "cell_type": "code",
      "source": [
        "clf = MLPClassifier(hidden_layer_sizes=(100,),random_state=1, max_iter=300).fit(X_train, y_train)\n",
        "clf.fit(X_train,y_train)\n",
        "y_pred = clf.predict_proba(X_train)\n",
        "print('Overall AUC:', roc_auc_score(y_train, clf.predict_proba(X_train),multi_class=\"ovr\"))"
      ],
      "metadata": {
        "id": "OakmJe-uluO3",
        "colab": {
          "base_uri": "https://localhost:8080/"
        },
        "outputId": "5cc620ec-684c-4df7-fa21-7b44fc6f2d93"
      },
      "execution_count": null,
      "outputs": [
        {
          "output_type": "stream",
          "name": "stdout",
          "text": [
            "Overall AUC: 0.8485003047881352\n"
          ]
        }
      ]
    },
    {
      "cell_type": "code",
      "source": [
        "y_pred = clf.predict(X_test)\n",
        "cm = confusion_matrix(y_test, y_pred)\n",
        "cm"
      ],
      "metadata": {
        "colab": {
          "base_uri": "https://localhost:8080/"
        },
        "id": "sMo992a9we4F",
        "outputId": "51dfe10d-5a02-409f-c602-a54a7317a501"
      },
      "execution_count": null,
      "outputs": [
        {
          "output_type": "execute_result",
          "data": {
            "text/plain": [
              "array([[  0,   0,   1],\n",
              "       [  0,   1,  27],\n",
              "       [  0,   2, 125]])"
            ]
          },
          "metadata": {},
          "execution_count": 27
        }
      ]
    },
    {
      "cell_type": "code",
      "source": [
        "import seaborn as seaborn \n",
        "import matplotlib.pyplot as plt\n"
      ],
      "metadata": {
        "id": "3UppnR5Nw9bs"
      },
      "execution_count": null,
      "outputs": []
    },
    {
      "cell_type": "code",
      "source": [
        "sns.heatmap(cm, cmap=\"Greens\", annot=True,fmt='.2%',\n",
        "            cbar_kws={'orientation':'vertical', 'label':'Color Bar'})\n",
        "plt.xlabel(\"Predicted\")\n",
        "plt.ylabel(\"Actual\")\n",
        "plt.show()"
      ],
      "metadata": {
        "colab": {
          "base_uri": "https://localhost:8080/",
          "height": 279
        },
        "id": "aQYyDlw5xHM0",
        "outputId": "c7170303-8878-46e9-83dd-772b45501c91"
      },
      "execution_count": null,
      "outputs": [
        {
          "output_type": "display_data",
          "data": {
            "text/plain": [
              "<Figure size 432x288 with 2 Axes>"
            ],
            "image/png": "[encoded data removed]"
          },
          "metadata": {
            "needs_background": "light"
          }
        }
      ]
    },
    {
      "cell_type": "code",
      "source": [
        "sns.heatmap(cm, cmap=\"Greens\", annot=True,\n",
        "            cbar_kws={'orientation':'vertical', 'label':'Color Bar'})\n",
        "plt.xlabel(\"Predicted\")\n",
        "plt.ylabel(\"Actual\")\n",
        "plt.show()"
      ],
      "metadata": {
        "id": "5oYamxpiyQeq",
        "outputId": "e1ba3741-418f-42f6-fc66-7655edfe77dd",
        "colab": {
          "base_uri": "https://localhost:8080/",
          "height": 279
        }
      },
      "execution_count": null,
      "outputs": [
        {
          "output_type": "display_data",
          "data": {
            "text/plain": [
              "<Figure size 432x288 with 2 Axes>"
            ],
            "image/png": "[encoded data removed]"
          },
          "metadata": {
            "needs_background": "light"
          }
        }
      ]
    },
    {
      "cell_type": "code",
      "source": [
        "clf.predict_proba(X_test)\n",
        "print('')"
      ],
      "metadata": {
        "colab": {
          "base_uri": "https://localhost:8080/"
        },
        "id": "SOcHlQMNluMI",
        "outputId": "b7fb5711-2632-42b3-e54d-1b891e89cf75"
      },
      "execution_count": null,
      "outputs": [
        {
          "output_type": "stream",
          "name": "stdout",
          "text": [
            "\n"
          ]
        }
      ]
    },
    {
      "cell_type": "code",
      "source": [
        "clf.score(X_test, y_test)"
      ],
      "metadata": {
        "colab": {
          "base_uri": "https://localhost:8080/"
        },
        "id": "8XgjXbMEluJe",
        "outputId": "66c2a81e-b1aa-4f2e-9ad5-314d431a63d0"
      },
      "execution_count": null,
      "outputs": [
        {
          "output_type": "execute_result",
          "data": {
            "text/plain": [
              "0.8589743589743589"
            ]
          },
          "metadata": {},
          "execution_count": 9
        }
      ]
    },
    {
      "cell_type": "code",
      "source": [
        "score = clf.score(X_train,y_train)"
      ],
      "metadata": {
        "id": "eEi1swi1luAz"
      },
      "execution_count": null,
      "outputs": []
    },
    {
      "cell_type": "code",
      "source": [
        "score"
      ],
      "metadata": {
        "id": "ZBiCN_Qqltud",
        "colab": {
          "base_uri": "https://localhost:8080/"
        },
        "outputId": "5b3f1730-9319-4592-ed77-93cad1b8acc7"
      },
      "execution_count": null,
      "outputs": [
        {
          "output_type": "execute_result",
          "data": {
            "text/plain": [
              "0.867237687366167"
            ]
          },
          "metadata": {},
          "execution_count": 18
        }
      ]
    },
    {
      "cell_type": "code",
      "source": [
        "activationList = [\"relu\", \"identity\", \"logistic\", \"tanh\"]\n",
        "for i in range(0,4):\n",
        "  clf = MLPClassifier(activation = activationList[i]);\n",
        "  clf.fit(X_train, y_train);\n",
        "  tempscore = clf.score(X_train, y_train)\n",
        "  print(\"Activation function -\",activationList[i],\"- Accuracy : \",tempscore)"
      ],
      "metadata": {
        "colab": {
          "base_uri": "https://localhost:8080/"
        },
        "id": "usEXZZYZLHhZ",
        "outputId": "ec4e6527-7b59-49da-b0df-caac2d0b1cc6"
      },
      "execution_count": null,
      "outputs": [
        {
          "output_type": "stream",
          "name": "stdout",
          "text": [
            "Activation function - relu - Accuracy :  0.8586723768736617\n",
            "Activation function - identity - Accuracy :  0.8522483940042827\n",
            "Activation function - logistic - Accuracy :  0.8522483940042827\n",
            "Activation function - tanh - Accuracy :  0.860813704496788\n"
          ]
        }
      ]
    },
    {
      "cell_type": "code",
      "source": [],
      "metadata": {
        "id": "dkA5I0fJiNoW"
      },
      "execution_count": null,
      "outputs": []
    }
  ]
}