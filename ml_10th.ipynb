{
  "nbformat": 4,
  "nbformat_minor": 0,
  "metadata": {
    "colab": {
      "provenance": []
    },
    "kernelspec": {
      "name": "python3",
      "display_name": "Python 3"
    },
    "language_info": {
      "name": "python"
    }
  },
  "cells": [
    {
      "cell_type": "code",
      "execution_count": null,
      "metadata": {
        "id": "rEqsYhcc9ZRB"
      },
      "outputs": [],
      "source": []
    },
    {
      "cell_type": "code",
      "execution_count": null,
      "metadata": {
        "colab": {
          "base_uri": "https://localhost:8080/",
          "height": 74
        },
        "id": "TUpv5GIdrHZ-",
        "outputId": "ccf7d1ed-04d3-4f5d-fc04-f7fa7859e5d1"
      },
      "outputs": [
        {
          "output_type": "display_data",
          "data": {
            "text/plain": [
              "<IPython.core.display.HTML object>"
            ],
            "text/html": [
              "\n",
              "     <input type=\"file\" id=\"files-b1790c25-d7dc-4ed7-a362-4e80059f9477\" name=\"files[]\" multiple disabled\n",
              "        style=\"border:none\" />\n",
              "     <output id=\"result-b1790c25-d7dc-4ed7-a362-4e80059f9477\">\n",
              "      Upload widget is only available when the cell has been executed in the\n",
              "      current browser session. Please rerun this cell to enable.\n",
              "      </output>\n",
              "      <script>// Copyright 2017 Google LLC\n",
              "//\n",
              "// Licensed under the Apache License, Version 2.0 (the \"License\");\n",
              "// you may not use this file except in compliance with the License.\n",
              "// You may obtain a copy of the License at\n",
              "//\n",
              "//      http://www.apache.org/licenses/LICENSE-2.0\n",
              "//\n",
              "// Unless required by applicable law or agreed to in writing, software\n",
              "// distributed under the License is distributed on an \"AS IS\" BASIS,\n",
              "// WITHOUT WARRANTIES OR CONDITIONS OF ANY KIND, either express or implied.\n",
              "// See the License for the specific language governing permissions and\n",
              "// limitations under the License.\n",
              "\n",
              "/**\n",
              " * @fileoverview Helpers for google.colab Python module.\n",
              " */\n",
              "(function(scope) {\n",
              "function span(text, styleAttributes = {}) {\n",
              "  const element = document.createElement('span');\n",
              "  element.textContent = text;\n",
              "  for (const key of Object.keys(styleAttributes)) {\n",
              "    element.style[key] = styleAttributes[key];\n",
              "  }\n",
              "  return element;\n",
              "}\n",
              "\n",
              "// Max number of bytes which will be uploaded at a time.\n",
              "const MAX_PAYLOAD_SIZE = 100 * 1024;\n",
              "\n",
              "function _uploadFiles(inputId, outputId) {\n",
              "  const steps = uploadFilesStep(inputId, outputId);\n",
              "  const outputElement = document.getElementById(outputId);\n",
              "  // Cache steps on the outputElement to make it available for the next call\n",
              "  // to uploadFilesContinue from Python.\n",
              "  outputElement.steps = steps;\n",
              "\n",
              "  return _uploadFilesContinue(outputId);\n",
              "}\n",
              "\n",
              "// This is roughly an async generator (not supported in the browser yet),\n",
              "// where there are multiple asynchronous steps and the Python side is going\n",
              "// to poll for completion of each step.\n",
              "// This uses a Promise to block the python side on completion of each step,\n",
              "// then passes the result of the previous step as the input to the next step.\n",
              "function _uploadFilesContinue(outputId) {\n",
              "  const outputElement = document.getElementById(outputId);\n",
              "  const steps = outputElement.steps;\n",
              "\n",
              "  const next = steps.next(outputElement.lastPromiseValue);\n",
              "  return Promise.resolve(next.value.promise).then((value) => {\n",
              "    // Cache the last promise value to make it available to the next\n",
              "    // step of the generator.\n",
              "    outputElement.lastPromiseValue = value;\n",
              "    return next.value.response;\n",
              "  });\n",
              "}\n",
              "\n",
              "/**\n",
              " * Generator function which is called between each async step of the upload\n",
              " * process.\n",
              " * @param {string} inputId Element ID of the input file picker element.\n",
              " * @param {string} outputId Element ID of the output display.\n",
              " * @return {!Iterable<!Object>} Iterable of next steps.\n",
              " */\n",
              "function* uploadFilesStep(inputId, outputId) {\n",
              "  const inputElement = document.getElementById(inputId);\n",
              "  inputElement.disabled = false;\n",
              "\n",
              "  const outputElement = document.getElementById(outputId);\n",
              "  outputElement.innerHTML = '';\n",
              "\n",
              "  const pickedPromise = new Promise((resolve) => {\n",
              "    inputElement.addEventListener('change', (e) => {\n",
              "      resolve(e.target.files);\n",
              "    });\n",
              "  });\n",
              "\n",
              "  const cancel = document.createElement('button');\n",
              "  inputElement.parentElement.appendChild(cancel);\n",
              "  cancel.textContent = 'Cancel upload';\n",
              "  const cancelPromise = new Promise((resolve) => {\n",
              "    cancel.onclick = () => {\n",
              "      resolve(null);\n",
              "    };\n",
              "  });\n",
              "\n",
              "  // Wait for the user to pick the files.\n",
              "  const files = yield {\n",
              "    promise: Promise.race([pickedPromise, cancelPromise]),\n",
              "    response: {\n",
              "      action: 'starting',\n",
              "    }\n",
              "  };\n",
              "\n",
              "  cancel.remove();\n",
              "\n",
              "  // Disable the input element since further picks are not allowed.\n",
              "  inputElement.disabled = true;\n",
              "\n",
              "  if (!files) {\n",
              "    return {\n",
              "      response: {\n",
              "        action: 'complete',\n",
              "      }\n",
              "    };\n",
              "  }\n",
              "\n",
              "  for (const file of files) {\n",
              "    const li = document.createElement('li');\n",
              "    li.append(span(file.name, {fontWeight: 'bold'}));\n",
              "    li.append(span(\n",
              "        `(${file.type || 'n/a'}) - ${file.size} bytes, ` +\n",
              "        `last modified: ${\n",
              "            file.lastModifiedDate ? file.lastModifiedDate.toLocaleDateString() :\n",
              "                                    'n/a'} - `));\n",
              "    const percent = span('0% done');\n",
              "    li.appendChild(percent);\n",
              "\n",
              "    outputElement.appendChild(li);\n",
              "\n",
              "    const fileDataPromise = new Promise((resolve) => {\n",
              "      const reader = new FileReader();\n",
              "      reader.onload = (e) => {\n",
              "        resolve(e.target.result);\n",
              "      };\n",
              "      reader.readAsArrayBuffer(file);\n",
              "    });\n",
              "    // Wait for the data to be ready.\n",
              "    let fileData = yield {\n",
              "      promise: fileDataPromise,\n",
              "      response: {\n",
              "        action: 'continue',\n",
              "      }\n",
              "    };\n",
              "\n",
              "    // Use a chunked sending to avoid message size limits. See b/62115660.\n",
              "    let position = 0;\n",
              "    do {\n",
              "      const length = Math.min(fileData.byteLength - position, MAX_PAYLOAD_SIZE);\n",
              "      const chunk = new Uint8Array(fileData, position, length);\n",
              "      position += length;\n",
              "\n",
              "      const base64 = btoa(String.fromCharCode.apply(null, chunk));\n",
              "      yield {\n",
              "        response: {\n",
              "          action: 'append',\n",
              "          file: file.name,\n",
              "          data: base64,\n",
              "        },\n",
              "      };\n",
              "\n",
              "      let percentDone = fileData.byteLength === 0 ?\n",
              "          100 :\n",
              "          Math.round((position / fileData.byteLength) * 100);\n",
              "      percent.textContent = `${percentDone}% done`;\n",
              "\n",
              "    } while (position < fileData.byteLength);\n",
              "  }\n",
              "\n",
              "  // All done.\n",
              "  yield {\n",
              "    response: {\n",
              "      action: 'complete',\n",
              "    }\n",
              "  };\n",
              "}\n",
              "\n",
              "scope.google = scope.google || {};\n",
              "scope.google.colab = scope.google.colab || {};\n",
              "scope.google.colab._files = {\n",
              "  _uploadFiles,\n",
              "  _uploadFilesContinue,\n",
              "};\n",
              "})(self);\n",
              "</script> "
            ]
          },
          "metadata": {}
        },
        {
          "output_type": "stream",
          "name": "stdout",
          "text": [
            "Saving accident-2014-4.csv to accident-2014-4.csv\n"
          ]
        }
      ],
      "source": [
        "from google.colab import files\n",
        " \n",
        "uploaded = files.upload()"
      ]
    },
    {
      "cell_type": "code",
      "source": [
        "import pandas as pd\n",
        "import io\n",
        "import seaborn as sns\n",
        "import matplotlib.pyplot as plt\n",
        "import numpy as np\n",
        "from sklearn.cluster import KMeans\n",
        "%matplotlib inline\n",
        "import warnings\n",
        "from sklearn.preprocessing import LabelEncoder\n",
        "warnings.filterwarnings('ignore')\n",
        "\n",
        "df = pd.read_csv(io.BytesIO(uploaded['accident-2014-4.csv']))\n",
        "print(df.head().to_markdown())"
      ],
      "metadata": {
        "colab": {
          "base_uri": "https://localhost:8080/"
        },
        "id": "DkyyW0SLraLr",
        "outputId": "e676f75a-f720-43df-fe68-f5146086ebf2"
      },
      "execution_count": null,
      "outputs": [
        {
          "output_type": "stream",
          "name": "stdout",
          "text": [
            "|    | Reference Number   |   Grid Ref: Easting |   Grid Ref: Northing |   Number of Vehicles | Accident Date   |   Time (24hr) |   1st Road Class | 1st Road Class & No   |   Road Surface |   Lighting Conditions |   Weather Conditions | Local Authority   |   Casualty Class |   Casualty Severity |   Sex of Casualty |   Age of Casualty |   Vehicle Number |   Type of Vehicle |\n",
            "|---:|:-------------------|--------------------:|---------------------:|---------------------:|:----------------|--------------:|-----------------:|:----------------------|---------------:|----------------------:|---------------------:|:------------------|-----------------:|--------------------:|------------------:|------------------:|-----------------:|------------------:|\n",
            "|  0 | 11S0281            |              407491 |               428929 |                    1 | 28-01-2014      |           835 |                6 | U                     |              2 |                     1 |                    9 | Calderdale        |                3 |                   3 |                 2 |                 8 |                1 |                 9 |\n",
            "|  1 | 11S1147            |              412912 |               429039 |                    1 | 28-01-2014      |          1745 |                6 | U                     |              2 |                     4 |                    1 | Calderdale        |                3 |                   3 |                 2 |                15 |                1 |                 9 |\n",
            "|  2 | 11S1147            |              412912 |               429039 |                    1 | 28-01-2014      |          1745 |                6 | U                     |              2 |                     4 |                    1 | Calderdale        |                3 |                   3 |                 1 |                17 |                1 |                 9 |\n",
            "|  3 | 11U0285            |              407179 |               424776 |                    2 | 30-01-2014      |           900 |                6 | U                     |              2 |                     1 |                    8 | Calderdale        |                1 |                   3 |                 2 |                29 |                2 |                 9 |\n",
            "|  4 | 11U0285            |              407179 |               424776 |                    2 | 30-01-2014      |           900 |                6 | U                     |              2 |                     1 |                    8 | Calderdale        |                2 |                   3 |                 1 |                 9 |                2 |                 9 |\n"
          ]
        }
      ]
    },
    {
      "cell_type": "code",
      "source": [
        "#Drop the columns with the non numerical values.\n",
        "df1 = df\n",
        "num_df =df1.drop(['Grid Ref: Easting', 'Grid Ref: Northing','Reference Number','Accident Date','Time (24hr)', '1st Road Class','Casualty Class', '1st Road Class & No','Vehicle Number','Local Authority'], axis=1)\n",
        "num_df.columns\n",
        "num_df.hist()\n",
        "\n",
        "# Bring the class attribute as the last column\n",
        "# The casulaty Severity here has 3 values.. 1.Fatal, 2.Seriuos . 3.Slight\n",
        "\n",
        "temp_series = num_df.pop('Casualty Severity')\n",
        "num_df['Casualty Severity'] = temp_series\n",
        "num_df.columns"
      ],
      "metadata": {
        "colab": {
          "base_uri": "https://localhost:8080/",
          "height": 350
        },
        "id": "TCBjAbFDrc2p",
        "outputId": "f52744a8-2c41-4b59-8bcf-9e6c74d41e31"
      },
      "execution_count": null,
      "outputs": [
        {
          "output_type": "execute_result",
          "data": {
            "text/plain": [
              "Index(['Number of Vehicles', 'Road Surface', 'Lighting Conditions',\n",
              "       'Weather Conditions', 'Sex of Casualty', 'Age of Casualty',\n",
              "       'Type of Vehicle', 'Casualty Severity'],\n",
              "      dtype='object')"
            ]
          },
          "metadata": {},
          "execution_count": 6
        },
        {
          "output_type": "display_data",
          "data": {
            "text/plain": [
              "<Figure size 432x288 with 9 Axes>"
            ],
            "image/png": "[encoded data removed]"
          },
          "metadata": {
            "needs_background": "light"
          }
        }
      ]
    },
    {
      "cell_type": "code",
      "source": [
        "df.nunique()"
      ],
      "metadata": {
        "colab": {
          "base_uri": "https://localhost:8080/"
        },
        "id": "x_jSlXeDs2Z_",
        "outputId": "46de64f6-9fb9-4355-d656-30b1c5b99c5a"
      },
      "execution_count": null,
      "outputs": [
        {
          "output_type": "execute_result",
          "data": {
            "text/plain": [
              "Reference Number       427\n",
              "Grid Ref: Easting      410\n",
              "Grid Ref: Northing     409\n",
              "Number of Vehicles       7\n",
              "Accident Date          253\n",
              "Time (24hr)            261\n",
              "1st Road Class           4\n",
              "1st Road Class & No     24\n",
              "Road Surface             5\n",
              "Lighting Conditions      5\n",
              "Weather Conditions       8\n",
              "Local Authority          1\n",
              "Casualty Class           3\n",
              "Casualty Severity        3\n",
              "Sex of Casualty          2\n",
              "Age of Casualty         88\n",
              "Vehicle Number           7\n",
              "Type of Vehicle         12\n",
              "dtype: int64"
            ]
          },
          "metadata": {},
          "execution_count": 20
        }
      ]
    },
    {
      "cell_type": "code",
      "source": [
        "# importing the sklearn library\n",
        "from sklearn.metrics import accuracy_score\n",
        "from sklearn.model_selection import train_test_split  \n",
        "from sklearn.preprocessing import StandardScaler \n",
        "from sklearn.metrics import classification_report, confusion_matrix, accuracy_score\n",
        "from sklearn.neural_network import MLPClassifier\n",
        "from sklearn.metrics import roc_auc_score"
      ],
      "metadata": {
        "id": "SQnWotqNrfzr"
      },
      "execution_count": null,
      "outputs": []
    },
    {
      "cell_type": "code",
      "source": [
        "# getting the x(dataset excluding the class attribute) and y(class attribute) dataset from class data set\n",
        "x = num_df.drop('Casualty Severity',axis=1)\n",
        "y = num_df['Casualty Severity']\n",
        "\n",
        "# Get dummy variable \n",
        "y = pd.get_dummies(y).values\n",
        "\n",
        "X_train, X_test, y_train, y_test= train_test_split(x, y, test_size= 0.25)"
      ],
      "metadata": {
        "id": "2kg44aHgrh4Z"
      },
      "execution_count": null,
      "outputs": []
    },
    {
      "cell_type": "code",
      "source": [
        "clf = MLPClassifier(hidden_layer_sizes=(100,),random_state=1, max_iter=300).fit(X_train, y_train)\n",
        "clf.fit(X_train,y_train)\n",
        "y_pred = clf.predict_proba(X_train)\n",
        "print('Overall AUC:', roc_auc_score(y_train, clf.predict_proba(X_train),multi_class=\"ovr\"))"
      ],
      "metadata": {
        "colab": {
          "base_uri": "https://localhost:8080/"
        },
        "id": "7lhXaSVjrkBz",
        "outputId": "2c0e1225-5b5b-476c-9fb5-1b1a6f687392"
      },
      "execution_count": null,
      "outputs": [
        {
          "output_type": "stream",
          "name": "stdout",
          "text": [
            "Overall AUC: 0.7795678187519647\n"
          ]
        }
      ]
    },
    {
      "cell_type": "code",
      "source": [
        "# y_pred = clf.predict(X_test)\n",
        "# cm = confusion_matrix(y_test, y_pred)\n",
        "# cm"
      ],
      "metadata": {
        "id": "Xs4lCyEermLQ"
      },
      "execution_count": null,
      "outputs": []
    },
    {
      "cell_type": "code",
      "source": [
        "# Initialize variables\n",
        "learning_rate = 0.1\n",
        "iterations = 500\n",
        "N = y_train.size\n",
        "\n",
        "# number of input features\n",
        "input_size = 7\n",
        "\n",
        "# number of hidden layers neurons\n",
        "hidden_size = 2 \n",
        "\n",
        "# number of neurons at the output layer\n",
        "output_size = 3  \n",
        "\n",
        "results = pd.DataFrame(columns=[\"mse\", \"accuracy\"])"
      ],
      "metadata": {
        "id": "t4McgBbzrrQH"
      },
      "execution_count": null,
      "outputs": []
    },
    {
      "cell_type": "code",
      "source": [
        "# Initialize weights\n",
        "np.random.seed(10)\n",
        "\n",
        "# initializing weight for the hidden layer\n",
        "W1 = np.random.normal(scale=0.5, size=(input_size, hidden_size))   \n",
        "\n",
        "# initializing weight for the output layer\n",
        "W2 = np.random.normal(scale=0.5, size=(hidden_size , output_size)) "
      ],
      "metadata": {
        "id": "allYY2nNr5RB"
      },
      "execution_count": null,
      "outputs": []
    },
    {
      "cell_type": "code",
      "source": [
        "def sigmoid(x):\n",
        "    return 1 / (1 + np.exp(-x))\n",
        "\n",
        "def mean_squared_error(y_pred, y_true):\n",
        "    return ((y_pred - y_true)**2).sum() / (2*y_pred.size)\n",
        "    \n",
        "def accuracy(y_pred, y_true):\n",
        "    acc = y_pred.argmax(axis=1) == y_true.argmax(axis=1)\n",
        "    return acc.mean()"
      ],
      "metadata": {
        "id": "u7dmv1oqr7nM"
      },
      "execution_count": null,
      "outputs": []
    },
    {
      "cell_type": "code",
      "source": [
        "for itr in range(iterations):    \n",
        "    \n",
        "    # feedforward propagation\n",
        "    # on hidden layer\n",
        "    Z1 = np.dot(X_train, W1)\n",
        "    A1 = sigmoid(Z1)\n",
        "\n",
        "    # on output layer\n",
        "    Z2 = np.dot(A1, W2)\n",
        "    A2 = sigmoid(Z2)\n",
        "    \n",
        "    \n",
        "    # Calculating error\n",
        "    mse = mean_squared_error(A2, y_train)\n",
        "    acc = accuracy(A2, y_train)\n",
        "    results=results.append({\"mse\":mse, \"accuracy\":acc},ignore_index=True )\n",
        "    \n",
        "    # backpropagation\n",
        "    E1 = A2 - y_train\n",
        "    dW1 = E1 * A2 * (1 - A2)\n",
        "\n",
        "    E2 = np.dot(dW1, W2.T)\n",
        "    dW2 = E2 * A1 * (1 - A1)\n",
        "\n",
        "    \n",
        "    # weight updates\n",
        "    W2_update = np.dot(A1.T, dW1) / N\n",
        "    W1_update = np.dot(X_train.T, dW2) / N\n",
        "\n",
        "    W2 = W2 - learning_rate * W2_update\n",
        "    W1 = W1 - learning_rate * W1_update"
      ],
      "metadata": {
        "id": "Yf2di-3Ir-u1"
      },
      "execution_count": null,
      "outputs": []
    },
    {
      "cell_type": "code",
      "source": [
        "results.mse.plot(title=\"Mean Squared Error\")"
      ],
      "metadata": {
        "colab": {
          "base_uri": "https://localhost:8080/",
          "height": 298
        },
        "id": "rrKls4OrsAv0",
        "outputId": "5c084e00-b25d-49a7-e95e-404317afcdb3"
      },
      "execution_count": null,
      "outputs": [
        {
          "output_type": "execute_result",
          "data": {
            "text/plain": [
              "<matplotlib.axes._subplots.AxesSubplot at 0x7f32f813b2d0>"
            ]
          },
          "metadata": {},
          "execution_count": 50
        },
        {
          "output_type": "display_data",
          "data": {
            "text/plain": [
              "<Figure size 432x288 with 1 Axes>"
            ],
            "image/png": "[encoded data removed]"
          },
          "metadata": {
            "needs_background": "light"
          }
        }
      ]
    },
    {
      "cell_type": "code",
      "source": [
        "results.accuracy.plot(title=\"Accuracy\")"
      ],
      "metadata": {
        "colab": {
          "base_uri": "https://localhost:8080/",
          "height": 298
        },
        "id": "Qi3i_HYSsChK",
        "outputId": "dc2aa275-7a53-4ec0-e0e3-f1a3443227d9"
      },
      "execution_count": null,
      "outputs": [
        {
          "output_type": "execute_result",
          "data": {
            "text/plain": [
              "<matplotlib.axes._subplots.AxesSubplot at 0x7f32f80a4c90>"
            ]
          },
          "metadata": {},
          "execution_count": 51
        },
        {
          "output_type": "display_data",
          "data": {
            "text/plain": [
              "<Figure size 432x288 with 1 Axes>"
            ],
            "image/png": "[encoded data removed]"
          },
          "metadata": {
            "needs_background": "light"
          }
        }
      ]
    },
    {
      "cell_type": "code",
      "source": [
        "y_pred = clf.predict_proba(X_train)\n",
        "print('Overall AUC:', roc_auc_score(y_train,y_pred,multi_class=\"ovr\"))"
      ],
      "metadata": {
        "colab": {
          "base_uri": "https://localhost:8080/"
        },
        "id": "NJl9Wab4337k",
        "outputId": "135b2f33-b190-47cb-c12f-937227080cf1"
      },
      "execution_count": null,
      "outputs": [
        {
          "output_type": "stream",
          "name": "stdout",
          "text": [
            "Overall AUC: 0.7795678187519647\n"
          ]
        }
      ]
    }
  ]
}